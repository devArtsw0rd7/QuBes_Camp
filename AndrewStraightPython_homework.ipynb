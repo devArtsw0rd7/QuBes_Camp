{
 "cells": [
  {
   "cell_type": "markdown",
   "metadata": {},
   "source": [
    "<h1 style=\"color:MediumSeaGreen;\">Python Homework</h1>\n",
    "\n",
    "Now that you have learned the basics of python, let's put this knowledge to the test! Please try to complete all these problems in order as some build off each other."
   ]
  },
  {
   "cell_type": "markdown",
   "metadata": {},
   "source": [
    "<h1 style=\"color:MediumSeaGreen;\">Exercise 1</h1>\n",
    " \n",
    "In this section, we will name 3 students and put them in a list to create a <a href=\"./Python_tutorial.ipynb/#lists\">list</a> of strings we can use later."
   ]
  },
  {
   "cell_type": "code",
   "execution_count": 1,
   "metadata": {},
   "outputs": [
    {
     "name": "stdout",
     "output_type": "stream",
     "text": [
      "['Andrew', 'Elliot', 'Jason']\n"
     ]
    }
   ],
   "source": [
    "# Assign names to the following variables. Remember strings need to go in double quotes.\n",
    "\n",
    "#e.g. student_0 = \"Jason\"\n",
    "student_1 = \"Andrew\"\n",
    "student_2 = \"Elliot\"\n",
    "student_3 = \"Jason\"\n",
    "\n",
    "# List containing our students we just named. Note: we initalize the students in brackets to create them as a list\n",
    "students = [student_1, student_2, student_3]\n",
    "\n",
    "print(students)"
   ]
  },
  {
   "cell_type": "markdown",
   "metadata": {},
   "source": [
    "**Expected Output:**\n",
    "\n",
    "['YourName1', 'YourName2', 'YourName3']"
   ]
  },
  {
   "cell_type": "markdown",
   "metadata": {},
   "source": [
    "**Note:**\n",
    "Jupyter notebooks will not forget the values of each variable once you've defined them. Even though `students` was defined in the code cell above, you can reference this variable in any other code cell once you run it."
   ]
  },
  {
   "cell_type": "markdown",
   "metadata": {},
   "source": [
    "<h1 style=\"color:MediumSeaGreen;\">Exercise 2</h1>\n",
    "\n",
    "In this section, we will utilize the power of `for` loops to iterate through our list of students and print each of their names without that ugly list output.\n",
    "<br/>\n",
    "\n",
    "*Hints:*\n",
    "* *For loops* iterate through a set amount of numbers. For example, the numbers 0 through 100. In this case you want to do so for each index in the list.\n",
    "* The `range()` function can take starting and ending numbers in addition to just an ending one like in the tutorial. If I wanted to do a *for loop* from 1-99 I would do `for i in range(0,100):`. The ending number is exclusive meaning we stop right before it.\n",
    "* To find the length of a list, you can use the `len()` function and you would use `len(listName)`. In our example, since there are 3 items in our list `len(listName)` would return 3.\n",
    "* To access the 0th index in the list (remember this would the 1st element in the list), you can use `listName[0]`\n",
    "* Remember you can call any defined function like so `functionName()`\n",
    "* If you get the error `list index out of range`, this means the index you are trying to access does not exist. Since our list has 3 elements, it is only defined for indicies 0 through 2."
   ]
  },
  {
   "cell_type": "code",
   "execution_count": 3,
   "metadata": {},
   "outputs": [
    {
     "name": "stdout",
     "output_type": "stream",
     "text": [
      "Andrew\n",
      "Elliot\n",
      "Jason\n"
     ]
    }
   ],
   "source": [
    "# Function that prints each name in our list by using a \"for loop\"\n",
    "def list_students_using_for():\n",
    "    # set up the for loop here.\n",
    "    for name in students:\n",
    "        #Get student from list at given index here: e.g. print(students[index])\n",
    "        print(name)\n",
    "\n",
    "# Call function to print names: list_students_using_for()\n",
    "list_students_using_for()"
   ]
  },
  {
   "cell_type": "markdown",
   "metadata": {},
   "source": [
    "**Expected Output:** <br/>\n",
    "YourName1<br/>\n",
    "YourName2<br/>\n",
    "YourName3"
   ]
  },
  {
   "cell_type": "markdown",
   "metadata": {},
   "source": [
    "<h1 style=\"color:MediumSeaGreen;\">Exercise 3</h1>\n",
    "In this exercise, we will iterate through the list of students again, but this time we will use a *while loop*. Additionally, instead of printing their names, we will have custom print statements based on the student's index. To accomplish this, we will use if/elif/else statements. <br/>\n",
    "<br/>\n",
    "\n",
    "*Hints:*\n",
    "\n",
    "* *While loops* iterate while its given condition is true. A useful condition for this problem may involve checking to see if the index you are trying to access is in the list.\n",
    "* Remember that the indices of a list start at 0! For example, the 5th item in a list is actually at index 4, after the elements at indices 0, 1, 2, and 3. \n",
    "* Recall that you use `=` to assign a variable a value and `==` to check if two values are equal.\n",
    "* You can refer to variable's current value when assigning a new value for it. For example, if variable `sum` had a value of 2 and I did `sum = sum + 2`, `sum` would now have a value of 4."
   ]
  },
  {
   "cell_type": "code",
   "execution_count": 4,
   "metadata": {},
   "outputs": [
    {
     "name": "stdout",
     "output_type": "stream",
     "text": [
      "I am not the second or third student in this list!\n",
      "I found the second student in the list!\n",
      "I found the third student in the list!\n"
     ]
    }
   ],
   "source": [
    "# Another way to iterate through items in our list. This one uses a \"while loop\"\n",
    "def list_students_using_while():\n",
    "    # initialize an index variable to 0. e.g. index = 0\n",
    "    index = 0\n",
    "    \n",
    "    # set up a while loop to iterate through every item in the list, and don't forget the : at the end!\n",
    "    while (index < len(students)):\n",
    "        # write an if statement that checks if this is the second student in the list\n",
    "        if (index == 1):\n",
    "            print(\"I found the second student in the list!\")\n",
    "        # write an elif statement that checks if this is the third student in the list\n",
    "        elif (index == 2):\n",
    "            print(\"I found the third student in the list!\")\n",
    "        # write an else statement that runs when the student is not the second or third student in the list\n",
    "        else:\n",
    "            print(\"I am not the second or third student in this list!\")\n",
    "            \n",
    "        # increase the value of your index value by 1: e.g. index = index + 1\n",
    "        index += 1\n",
    "        \n",
    "# Call function\n",
    "list_students_using_while()"
   ]
  },
  {
   "cell_type": "markdown",
   "metadata": {},
   "source": [
    "**Expected Output:** <br/>\n",
    "I am not the second or third student in this list!<br/>\n",
    "I found the second student in the list!<br/>\n",
    "I found the third student in the list! "
   ]
  },
  {
   "cell_type": "markdown",
   "metadata": {},
   "source": [
    "<h1 style=\"color:MediumSeaGreen;\">Exercise 4</h1>\n",
    "\n",
    "In this exercise, we use one of the many of python modules (also called libraries or packages) to help us select a random student from our class. Instead of having to implement a random number generator ourselves, we can borrow it from the `random` library (whew, less work for us!). Once we get a random student, we will print out their name. \n",
    "<br/>\n",
    "\n",
    "*Hints:*\n",
    "* To import a module, at the top of file write `import moduleName`.\n",
    "* To use a function in a module, you can use `moduleName.functionName(arguments)`.\n",
    "* A good way to get a random student by using random's `randint` function to obtain a random index of the list. It takes two parameters the lowest integer and the highest integer in the range you want. To get a random number 1-100 you would do `randint(1,100)`.\n",
    "* If you get the error, `name 'randint' is not defined` remember to check that you are importing the module correctly and using it properly as hints 1 and 2 dictate."
   ]
  },
  {
   "cell_type": "code",
   "execution_count": 10,
   "metadata": {},
   "outputs": [
    {
     "name": "stdout",
     "output_type": "stream",
     "text": [
      "Our Randomly Selected Student is Jason\n"
     ]
    }
   ],
   "source": [
    "# Import module \"random\"\n",
    "import random\n",
    "# Function that picks a random student from a list:\n",
    "def get_random_student(class_size):\n",
    "    # use random's randint function to get a random index, between 0 and the size of the class, inclusive\n",
    "    # e.g. random_index = random.randint(0,10)\n",
    "    random_index = random.randint(0, class_size - 1)     \n",
    "    \n",
    "    print(\"Our Randomly Selected Student is \" + students[random_index])\n",
    "    \n",
    "get_random_student(len(students)) "
   ]
  },
  {
   "cell_type": "markdown",
   "metadata": {},
   "source": [
    "**Expected Output:**<br/>\n",
    "Our Randomly Selected Student is YourRandomStudentName <br/>\n",
    "\n",
    "**Note:** Run this function a few times to ensure that the name changes randomly"
   ]
  },
  {
   "cell_type": "markdown",
   "metadata": {},
   "source": [
    "<h1 style=\"color:MediumSeaGreen;\">Exercise 5</h1>\n",
    "\n",
    "Now we will look into a python programming concept called a \"class\". While you most likely be creating a class from scratch it is good to get to know how to create an instance of one and use its various functions. *This does not require you to add any code*\n",
    "<br/>\n",
    "\n",
    "Below is an example of a class called `Students`. Again this is just to get familiar with what a class looks like. You will not have to write any code. Simply review the code and comments and run the code block so we can use it for the following section."
   ]
  },
  {
   "cell_type": "code",
   "execution_count": 11,
   "metadata": {},
   "outputs": [],
   "source": [
    "# Example of a class called \"Students\" below\n",
    "class Students:\n",
    "    def __init__(self, students):  # This is the constructor. Takes a list and assigns it to a variable in the object.\n",
    "        self.students = students\n",
    "\n",
    "    def add_student(self, new_student):  # function of a class = method\n",
    "        self.students.append(new_student)  # adds a new student to the list\n",
    "\n",
    "    def get_class_length(self):\n",
    "        print(len(self.students))  # prints the length of the class\n",
    "\n",
    "    def get_list_students(self):\n",
    "        print(self.students)  # prints the list of students\n",
    "\n",
    "    # lets write some of the previous functions as methods\n",
    "    def get_random_student(self):\n",
    "        random_index = random.randint(0, len(self.students) - 1)\n",
    "        print(\"Our Randomly Selected Student is \" + self.students[random_index])\n",
    "\n",
    "    def print_names(self):\n",
    "        for student in self.students:\n",
    "            print(student)"
   ]
  },
  {
   "cell_type": "markdown",
   "metadata": {},
   "source": [
    "Now, we will learn how to use this class. First, we learn how to instantiate (create an instance of) a class. We can do this by calling its constructor with any arguments (parameters) it needs. A constructor sets up the object so you are able to use it. If you wanted to create an instance of a class called `Dog` that took the parameter name parameter, you would do `myDog = Dog(\"Fido\")`. *Note: we are assigning it to a variable so that we can use it later.*"
   ]
  },
  {
   "cell_type": "code",
   "execution_count": 12,
   "metadata": {},
   "outputs": [
    {
     "name": "stdout",
     "output_type": "stream",
     "text": [
      "['Alice', 'Bob', 'Charlie']\n"
     ]
    }
   ],
   "source": [
    "# we can write the elements directly into the list like we did in exercise 1\n",
    "student_list = [\"Alice\", \"Bob\", \"Charlie\"]\n",
    "\n",
    "# Make an instance of the Students class using student_list and save it in a variable called classroom: e.g. Students(array)\n",
    "classroom = Students(student_list)\n",
    "# Function call that will print the list of students\n",
    "classroom.get_list_students()"
   ]
  },
  {
   "cell_type": "markdown",
   "metadata": {},
   "source": [
    "**Expected Output:** <br/>\n",
    "['Alice', 'Bob', 'Charlie']"
   ]
  },
  {
   "cell_type": "markdown",
   "metadata": {},
   "source": [
    "Note that calling a class's \"methods\" (the functions of a class) is exactly the same using a module's function from Exercise 4. Using this knowledge complete the following section."
   ]
  },
  {
   "cell_type": "code",
   "execution_count": 13,
   "metadata": {},
   "outputs": [
    {
     "name": "stdout",
     "output_type": "stream",
     "text": [
      "3\n",
      "Our Randomly Selected Student is Alice\n",
      "Alice\n",
      "Bob\n",
      "Charlie\n",
      "\n",
      "['Alice', 'Bob', 'Charlie', 'David']\n",
      "4\n",
      "Our Randomly Selected Student is Charlie\n",
      "Alice\n",
      "Bob\n",
      "Charlie\n",
      "David\n"
     ]
    }
   ],
   "source": [
    "# Call function to get class length\n",
    "classroom.get_class_length()\n",
    "\n",
    "# Call function to get a random student\n",
    "classroom.get_random_student()\n",
    "\n",
    "# Call function to print every student's name\n",
    "classroom.print_names()\n",
    "\n",
    "print(\"\")  # Print blank space\n",
    "# Call function to add a student called \"David\"\n",
    "classroom.add_student(\"David\")\n",
    "\n",
    "# Call function to print the list of students like in the previous code block\n",
    "classroom.get_list_students()\n",
    "\n",
    "# Call function to get class length\n",
    "classroom.get_class_length()\n",
    "\n",
    "# Call function to get a random student\n",
    "classroom.get_random_student()\n",
    "\n",
    "# Call function to print every student's name\n",
    "classroom.print_names()\n"
   ]
  },
  {
   "cell_type": "markdown",
   "metadata": {},
   "source": [
    "**Expected Output** <br/>\n",
    "3 <br/>\n",
    "Our Randomly Selected Student is RandomStudentFromList <br/>\n",
    "Alice <br/>\n",
    "Bob <br/>\n",
    "Charlie <br/>\n",
    "\n",
    "['Alice', 'Bob', 'Charlie', 'David'] <br/>\n",
    "4 <br/>\n",
    "Our Randomly Selected Student is RandomStudentFromList <br/>\n",
    "Alice <br/>\n",
    "Bob <br/> \n",
    "Charlie <br/>\n",
    "David <br/>"
   ]
  },
  {
   "cell_type": "markdown",
   "metadata": {},
   "source": [
    "<h1 style=\"color:MediumSeaGreen;\">Challenge Exercise</h1>\n",
    "\n",
    "This final exercise will put together everything you learned in the previous sections.\n",
    "\n",
    "**Your Goal** \n",
    "\n",
    "Given a list of potential years, your goal is to determine if they are leap years or not. You will iterate through the given list and if the year is a leap year, print \"givenYear is a leap year\" and if it is not, print \"givenYear is not a leap year\". Also, after iterating through all the list of years, print out how many years were leap years.\n",
    "<br/>\n",
    "\n",
    "*Hints*\n",
    "* Leap Years are any year that can be exactly divided by 4 (such as 2016, 2020, 2024, etc), except if it can be exactly divided by 100, then it isn't (such as 2100, 2200, etc), except if it can be exactly divided by 400, then it is (such as 2000, 2400)\n",
    "* You can use the \"modulo\" operater `%` (which returns the remainder of division) to determine if a number is divisible by another. For example, `10 % 3` equals `1` (since 3 goes into 10 3 times then there is one left over) and if I want to see if a variable `sum` was divisible `3`, I would do `sum % 3 == 0`.\n",
    "* Example of print statement with a integer variable `sum`: `print(str(sum) + \" is your final sum\")`. If you don't convert your integer variable to a string, you will get the following error: `unsupported operand type(s) for +: 'int' and 'str'`"
   ]
  },
  {
   "cell_type": "code",
   "execution_count": 17,
   "metadata": {},
   "outputs": [
    {
     "name": "stdout",
     "output_type": "stream",
     "text": [
      "84 is a leap year\n",
      "1302 is a leap year\n",
      "1727 is a leap year\n",
      "966 is a leap year\n",
      "1200 is a leap year\n",
      "300 is not a leap year\n",
      "1942 is a leap year\n",
      "3200 is a leap year\n",
      "1500 is not a leap year\n",
      "2020 is a leap year\n",
      "There were 4 leap years in this list\n"
     ]
    }
   ],
   "source": [
    "# List of potential leap years (integers)\n",
    "potentialLeapYears = [84, 1302, 1727, 966, 1200, 300, 1942, 3200, 1500, 2020]\n",
    "\n",
    "# Declare an empty list to hold each leap year found by the determineLeapYear() function\n",
    "numLeapYears = []\n",
    "\n",
    "def determineLeapYear(potentialLeapYears):\n",
    "    # Implement leap year determiner here\n",
    "    for year in potentialLeapYears:\n",
    "        if (year % 4) == 0:\n",
    "            if (year % 100) == 0:\n",
    "                if (year % 400) == 0:\n",
    "                    # If year is determined to be a leap year, append it to the 'numLeapYears' list\n",
    "                    numLeapYears.append(year)\n",
    "                    # Print 'year' is a leap year for years determined to be leap years\n",
    "                    print(str(year) + \" is a leap year\")\n",
    "                else: \n",
    "                    # Print 'year' is not a leap year for years determined not to be leap years\n",
    "                    print(str(year) + \" is not a leap year\")\n",
    "            else:\n",
    "                # If year is determined to be a leap year, append it to the 'numLeapYears' list\n",
    "                numLeapYears.append(year)\n",
    "                # Print 'year' is a leap year for years determined to be leap years\n",
    "                print(str(year) + \" is a leap year\")\n",
    "        else:\n",
    "            # Print 'year' is a leap year for years determined to be leap years\n",
    "            print(str(year) + \" is a leap year\")\n",
    "\n",
    "# determineLeapYear function call    \n",
    "determineLeapYear(potentialLeapYears)\n",
    "\n",
    "# Get the total number of leap years found in 'potentialLeapYears' list and save in 'totalLeapYears'\n",
    "totalLeapYears = len(numLeapYears)\n",
    "\n",
    "# Output total # of leap years\n",
    "print(\"There were \" + str(totalLeapYears) + \" leap years in this list\")"
   ]
  },
  {
   "cell_type": "markdown",
   "metadata": {},
   "source": [
    "**Expected Output:**<br/>\n",
    "84 is a leap year <br/>\n",
    "1302 is not a leap year <br/>\n",
    "1727 is not a leap year <br/>\n",
    "966 is not a leap year <br/>\n",
    "1200 is a leap year <br/>\n",
    "300 is not a leap year <br/>\n",
    "1942 is not a leap year <br/>\n",
    "3200 is a leap year <br/>\n",
    "1500 is not a leap year <br/>\n",
    "2020 is a leap year <br/>\n",
    "There were 4 leap years in this list"
   ]
  }
 ],
 "metadata": {
  "kernelspec": {
   "display_name": "Python 3",
   "language": "python",
   "name": "python3"
  },
  "language_info": {
   "codemirror_mode": {
    "name": "ipython",
    "version": 3
   },
   "file_extension": ".py",
   "mimetype": "text/x-python",
   "name": "python",
   "nbconvert_exporter": "python",
   "pygments_lexer": "ipython3",
   "version": "3.7.6"
  },
  "widgets": {
   "application/vnd.jupyter.widget-state+json": {
    "state": {},
    "version_major": 2,
    "version_minor": 0
   }
  }
 },
 "nbformat": 4,
 "nbformat_minor": 4
}
